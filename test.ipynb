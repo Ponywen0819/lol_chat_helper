{
 "cells": [
  {
   "cell_type": "code",
   "execution_count": null,
   "metadata": {},
   "outputs": [],
   "source": [
    "# 測試：查詢英雄分析 (以 Ahri 中路為例, champion_id=103)\n",
    "print(\"📊 查詢 Ahri 中路的英雄分析...\\n\")\n",
    "\n",
    "result = await client.get_champion_analysis(\n",
    "    region=\"kr\",\n",
    "    champion_id=103,  # Ahri\n",
    "    lane=\"MID\"\n",
    ")\n",
    "\n",
    "print(\"結果:\")\n",
    "print(\"=\" * 60)\n",
    "print(result)"
   ]
  },
  {
   "cell_type": "markdown",
   "metadata": {},
   "source": [
    "## 9. 測試：查詢英雄分析 (Counter/Ban/Pick)"
   ]
  },
  {
   "cell_type": "code",
   "execution_count": null,
   "metadata": {},
   "outputs": [],
   "source": [
    "# 測試：查詢英雄列表\n",
    "print(\"🎮 查詢英雄列表...\\n\")\n",
    "\n",
    "result = await client.list_champions(region=\"kr\")\n",
    "\n",
    "print(\"結果:\")\n",
    "print(\"=\" * 60)\n",
    "print(result)"
   ]
  },
  {
   "cell_type": "markdown",
   "metadata": {},
   "source": [
    "## 8. 測試：查詢英雄列表"
   ]
  },
  {
   "cell_type": "code",
   "execution_count": null,
   "metadata": {},
   "outputs": [],
   "source": [
    "# 測試：查詢 Faker (Hide on bush) 的資料\n",
    "print(\"🔍 查詢 Faker (Hide on bush) 的資料...\\n\")\n",
    "\n",
    "result = await client.get_summoner_profile(\n",
    "    region=\"kr\",\n",
    "    summoner_id=\"Hide on bush\",\n",
    "    game_type=\"SOLORANKED\"\n",
    ")\n",
    "\n",
    "print(\"結果:\")\n",
    "print(\"=\" * 60)\n",
    "print(result)"
   ]
  },
  {
   "cell_type": "markdown",
   "metadata": {},
   "source": [
    "## 7. 測試：查詢召喚師資料"
   ]
  },
  {
   "cell_type": "code",
   "execution_count": null,
   "metadata": {},
   "outputs": [],
   "source": [
    "# 測試：列出所有工具\n",
    "tools = await client.list_tools()\n",
    "\n",
    "print(f\"✅ 成功連接！找到 {len(tools)} 個工具\\n\")\n",
    "print(\"工具列表:\")\n",
    "print(\"=\" * 60)\n",
    "\n",
    "for i, tool in enumerate(tools, 1):\n",
    "    print(f\"{i}. {tool.name}\")\n",
    "    if hasattr(tool, 'description'):\n",
    "        print(f\"   {tool.description[:100]}...\")\n",
    "    print()"
   ]
  },
  {
   "cell_type": "markdown",
   "metadata": {},
   "source": [
    "## 6. 測試：列出所有工具"
   ]
  },
  {
   "cell_type": "code",
   "execution_count": null,
   "metadata": {},
   "outputs": [],
   "source": [
    "class SimpleMCPClient:\n",
    "    \"\"\"\n",
    "    簡單的 MCP Client 封裝類別\n",
    "    \"\"\"\n",
    "    \n",
    "    def __init__(self, server_url: str = \"https://mcp-api.op.gg/mcp\"):\n",
    "        self.server_url = server_url\n",
    "        self.server_params = StdioServerParameters(\n",
    "            command=\"npx\",\n",
    "            args=[\n",
    "                \"-y\",\n",
    "                \"supergateway\",\n",
    "                \"--streamableHttp\",\n",
    "                server_url\n",
    "            ],\n",
    "            env=None\n",
    "        )\n",
    "    \n",
    "    async def list_tools(self):\n",
    "        \"\"\"\n",
    "        列出所有可用的工具\n",
    "        \"\"\"\n",
    "        async with stdio_client(self.server_params) as (read, write):\n",
    "            async with ClientSession(read, write) as session:\n",
    "                await session.initialize()\n",
    "                tools_result = await session.list_tools()\n",
    "                return tools_result.tools\n",
    "    \n",
    "    async def call_tool(self, tool_name: str, arguments: dict):\n",
    "        \"\"\"\n",
    "        呼叫指定的工具\n",
    "        \n",
    "        Args:\n",
    "            tool_name: 工具名稱\n",
    "            arguments: 工具參數\n",
    "        \n",
    "        Returns:\n",
    "            工具執行結果\n",
    "        \"\"\"\n",
    "        async with stdio_client(self.server_params) as (read, write):\n",
    "            async with ClientSession(read, write) as session:\n",
    "                await session.initialize()\n",
    "                result = await session.call_tool(tool_name, arguments=arguments)\n",
    "                return result\n",
    "    \n",
    "    async def get_summoner_profile(self, region: str, summoner_id: str, game_type: str = \"SOLORANKED\"):\n",
    "        \"\"\"\n",
    "        便利方法：查詢召喚師資料\n",
    "        \"\"\"\n",
    "        return await self.call_tool(\n",
    "            \"lol_get_summoner_profile\",\n",
    "            {\n",
    "                \"region\": region,\n",
    "                \"summoner_id\": summoner_id,\n",
    "                \"game_type\": game_type\n",
    "            }\n",
    "        )\n",
    "    \n",
    "    async def list_champions(self, region: str = \"kr\"):\n",
    "        \"\"\"\n",
    "        便利方法：查詢英雄列表\n",
    "        \"\"\"\n",
    "        return await self.call_tool(\n",
    "            \"lol_list_champions\",\n",
    "            {\"region\": region}\n",
    "        )\n",
    "    \n",
    "    async def get_champion_analysis(self, region: str, champion_id: int, lane: str):\n",
    "        \"\"\"\n",
    "        便利方法：查詢英雄分析\n",
    "        \"\"\"\n",
    "        return await self.call_tool(\n",
    "            \"lol_get_champion_analysis\",\n",
    "            {\n",
    "                \"region\": region,\n",
    "                \"champion_id\": champion_id,\n",
    "                \"lane\": lane\n",
    "            }\n",
    "        )\n",
    "\n",
    "# 創建 client 實例\n",
    "client = SimpleMCPClient()\n",
    "print(\"✅ SimpleMCPClient 已創建\")"
   ]
  },
  {
   "cell_type": "markdown",
   "metadata": {},
   "source": [
    "## 5. 完整的 MCP Client 類別封裝"
   ]
  },
  {
   "cell_type": "code",
   "execution_count": null,
   "metadata": {},
   "outputs": [],
   "source": [
    "async def call_mcp_tool_example():\n",
    "    \"\"\"\n",
    "    範例：使用 MCP client 呼叫工具\n",
    "    \"\"\"\n",
    "    server_params = StdioServerParameters(\n",
    "        command=\"npx\",\n",
    "        args=[\n",
    "            \"-y\",\n",
    "            \"supergateway\",\n",
    "            \"--streamableHttp\",\n",
    "            \"https://mcp-api.op.gg/mcp\"\n",
    "        ],\n",
    "        env=None\n",
    "    )\n",
    "    \n",
    "    async with stdio_client(server_params) as (read, write):\n",
    "        async with ClientSession(read, write) as session:\n",
    "            await session.initialize()\n",
    "            \n",
    "            # 範例 1: 查詢召喚師資料\n",
    "            print(\"🔍 查詢召喚師資料...\\n\")\n",
    "            \n",
    "            result = await session.call_tool(\n",
    "                \"lol_get_summoner_profile\",\n",
    "                arguments={\n",
    "                    \"region\": \"kr\",\n",
    "                    \"summoner_id\": \"Hide on bush\",\n",
    "                    \"game_type\": \"SOLORANKED\"\n",
    "                }\n",
    "            )\n",
    "            \n",
    "            print(\"📊 結果:\")\n",
    "            print(result)\n",
    "            print()\n",
    "            \n",
    "            # 範例 2: 查詢英雄列表\n",
    "            print(\"\\n🎮 查詢英雄列表...\\n\")\n",
    "            \n",
    "            result2 = await session.call_tool(\n",
    "                \"lol_list_champions\",\n",
    "                arguments={\n",
    "                    \"region\": \"kr\"\n",
    "                }\n",
    "            )\n",
    "            \n",
    "            print(\"📊 結果:\")\n",
    "            print(result2)\n",
    "\n",
    "# 執行範例 - 取消下面這行的註解來執行\n",
    "# await call_mcp_tool_example()"
   ]
  },
  {
   "cell_type": "markdown",
   "metadata": {},
   "source": [
    "## 4. 呼叫 MCP 工具範例"
   ]
  },
  {
   "cell_type": "code",
   "execution_count": 10,
   "metadata": {},
   "outputs": [
    {
     "name": "stderr",
     "output_type": "stream",
     "text": [
      "WARNING:root:Failed to validate notification: 11 validation errors for ServerNotification\n",
      "CancelledNotification.method\n",
      "  Input should be 'notifications/cancelled' [type=literal_error, input_value='notifications/initialized', input_type=str]\n",
      "    For further information visit https://errors.pydantic.dev/2.12/v/literal_error\n",
      "CancelledNotification.params\n",
      "  Field required [type=missing, input_value={'method': 'notifications...ized', 'jsonrpc': '2.0'}, input_type=dict]\n",
      "    For further information visit https://errors.pydantic.dev/2.12/v/missing\n",
      "ProgressNotification.method\n",
      "  Input should be 'notifications/progress' [type=literal_error, input_value='notifications/initialized', input_type=str]\n",
      "    For further information visit https://errors.pydantic.dev/2.12/v/literal_error\n",
      "ProgressNotification.params\n",
      "  Field required [type=missing, input_value={'method': 'notifications...ized', 'jsonrpc': '2.0'}, input_type=dict]\n",
      "    For further information visit https://errors.pydantic.dev/2.12/v/missing\n",
      "LoggingMessageNotification.method\n",
      "  Input should be 'notifications/message' [type=literal_error, input_value='notifications/initialized', input_type=str]\n",
      "    For further information visit https://errors.pydantic.dev/2.12/v/literal_error\n",
      "LoggingMessageNotification.params\n",
      "  Field required [type=missing, input_value={'method': 'notifications...ized', 'jsonrpc': '2.0'}, input_type=dict]\n",
      "    For further information visit https://errors.pydantic.dev/2.12/v/missing\n",
      "ResourceUpdatedNotification.method\n",
      "  Input should be 'notifications/resources/updated' [type=literal_error, input_value='notifications/initialized', input_type=str]\n",
      "    For further information visit https://errors.pydantic.dev/2.12/v/literal_error\n",
      "ResourceUpdatedNotification.params\n",
      "  Field required [type=missing, input_value={'method': 'notifications...ized', 'jsonrpc': '2.0'}, input_type=dict]\n",
      "    For further information visit https://errors.pydantic.dev/2.12/v/missing\n",
      "ResourceListChangedNotification.method\n",
      "  Input should be 'notifications/resources/list_changed' [type=literal_error, input_value='notifications/initialized', input_type=str]\n",
      "    For further information visit https://errors.pydantic.dev/2.12/v/literal_error\n",
      "ToolListChangedNotification.method\n",
      "  Input should be 'notifications/tools/list_changed' [type=literal_error, input_value='notifications/initialized', input_type=str]\n",
      "    For further information visit https://errors.pydantic.dev/2.12/v/literal_error\n",
      "PromptListChangedNotification.method\n",
      "  Input should be 'notifications/prompts/list_changed' [type=literal_error, input_value='notifications/initialized', input_type=str]\n",
      "    For further information visit https://errors.pydantic.dev/2.12/v/literal_error. Message was: method='notifications/initialized' params=None jsonrpc='2.0'\n"
     ]
    },
    {
     "name": "stdout",
     "output_type": "stream",
     "text": [
      "✅ 成功連接到 MCP server!\n",
      "📊 結果:\n",
      "meta=None content=[TextContent(type='text', text='{\"champion\":\"ELISE\",\"position\":\"JUNGLE\",\"win_rate\":0.52,\"pick_rate\":0.04,\"ban_rate\":0.04,\"recommended_build\":{\"core_items\":[{\"ids\":\"[4646,4645,3157]\",\"play\":1031,\"win\":527,\"pick_rate\":0.2}],\"boots\":[{\"ids\":\"[3020]\",\"play\":9181,\"win\":4717,\"pick_rate\":0.98}],\"starter_items\":[{\"ids\":\"[1101,2003]\",\"play\":3618,\"win\":1875,\"pick_rate\":0.37}],\"last_items\":[{\"ids\":\"[4646]\",\"play\":8253,\"win\":4227,\"pick_rate\":0.8},{\"ids\":\"[4645]\",\"play\":7316,\"win\":3872,\"pick_rate\":0.71},{\"ids\":\"[1082]\",\"play\":3699,\"win\":1926,\"pick_rate\":0.36}],\"fourth_items\":[{\"ids\":\"[3089]\",\"play\":503,\"win\":319,\"pick_rate\":0.25},{\"ids\":\"[3135]\",\"play\":470,\"win\":266,\"pick_rate\":0.23},{\"ids\":\"[3157]\",\"play\":434,\"win\":289,\"pick_rate\":0.22}],\"fifth_items\":[{\"ids\":\"[3135]\",\"play\":127,\"win\":75,\"pick_rate\":0.25},{\"ids\":\"[3089]\",\"play\":91,\"win\":59,\"pick_rate\":0.18},{\"ids\":\"[3102]\",\"play\":81,\"win\":40,\"pick_rate\":0.16}],\"sixth_items\":[{\"ids\":\"[3102]\",\"play\":8,\"win\":4,\"pick_rate\":0.36},{\"ids\":\"[3100]\",\"play\":5,\"win\":1,\"pick_rate\":0.23},{\"ids\":\"[3135]\",\"play\":3,\"win\":3,\"pick_rate\":0.14}]},\"skill_order\":{\"skills\":[{\"order\":\"[\\\\\"W\\\\\",\\\\\"Q\\\\\",\\\\\"E\\\\\",\\\\\"Q\\\\\",\\\\\"Q\\\\\",\\\\\"R\\\\\",\\\\\"Q\\\\\",\\\\\"W\\\\\",\\\\\"Q\\\\\",\\\\\"W\\\\\",\\\\\"R\\\\\",\\\\\"W\\\\\",\\\\\"W\\\\\",\\\\\"E\\\\\",\\\\\"E\\\\\"]\",\"play\":3413,\"win\":2273,\"pick_rate\":0.6}}],\"items\":{\"boots\":[{\"ids\":\"[3020]\",\"play\":9181,\"win\":4717,\"pick_rate\":0.98}],\"starter_items\":[{\"ids\":\"[1101,2003]\",\"play\":3618,\"win\":1875,\"pick_rate\":0.37}]},\"counter_pick\":{\"strong_counters\":[{\"champion_id\":64,\"play\":663,\"win\":359,\"win_rate\":0.54}]},\"weaknesses\":{\"weak_counters\":[]},\"recommended_synergies\":{\"JUNGLE\":[{\"synergy_champion_id\":58,\"synergy_position\":\"TOP\",\"score_rank\":1,\"score\":0,\"play\":132,\"win\":76,\"win_rate\":0.58},{\"synergy_champion_id\":897,\"synergy_position\":\"TOP\",\"score_rank\":8,\"score\":0,\"play\":90,\"win\":51,\"win_rate\":0.57},{\"synergy_champion_id\":39,\"synergy_position\":\"TOP\",\"score_rank\":9,\"score\":0,\"play\":78,\"win\":44,\"win_rate\":0.56}]},\"damage_type\":\"AP\"}', annotations=None, meta=None)] structuredContent=None isError=False\n"
     ]
    }
   ],
   "source": [
    "import asyncio\n",
    "from mcp import ClientSession, StdioServerParameters\n",
    "from mcp.client.stdio import stdio_client\n",
    "\n",
    "async def create_mcp_client():\n",
    "    \"\"\"\n",
    "    建立並初始化 MCP client，連接到 OP.GG MCP server\n",
    "    \"\"\"\n",
    "    # 設定 server 參數 (使用 npx supergateway 連接到 OP.GG)\n",
    "    server_params = StdioServerParameters(\n",
    "        command=\"npx\",\n",
    "        args=[\n",
    "            \"-y\",\n",
    "            \"supergateway\",\n",
    "            \"--streamableHttp\",\n",
    "            \"https://mcp-api.op.gg/mcp\"\n",
    "        ],\n",
    "        env=None\n",
    "    )\n",
    "    \n",
    "    # 建立 stdio client 和 session\n",
    "    async with stdio_client(server_params) as (read, write):\n",
    "        async with ClientSession(read, write) as session:\n",
    "            # 初始化連接\n",
    "            await session.initialize()\n",
    "            \n",
    "            print(\"✅ 成功連接到 MCP server!\")\n",
    "            \n",
    "            # 列出所有可用的工具\n",
    "            tools_result = await session.list_tools()\n",
    "            \n",
    "            result = await session.call_tool(\n",
    "\t\t\t\t\"lol_get_champion_analysis\",\n",
    "\t\t\t\targuments={\n",
    "\t\t\t\t\t\"champion\": \"ELISE\",\n",
    "\t\t\t\t\t\"desired_value_description\": \"champion, win_rate, pick_rate, ban_rate, recommended_build, skill_order, items, counter_pick, weaknesses, recommended_synergies\",\n",
    "\t\t\t\t\t\"game_mode\": \"RANKED\",\n",
    "\t\t\t\t\t\"lang\": \"zh_TW\",\n",
    "\t\t\t\t\t\"position\": \"JUNGLE\"\n",
    "\t\t\t\t}\n",
    "\t\t\t)\n",
    "            \n",
    "            print(\"📊 結果:\")\n",
    "            print(result)\n",
    "            # tools = tools_result.tools\n",
    "            \n",
    "            # print(f\"\\n📦 可用工具數量: {len(tools)}\\n\")\n",
    "            \n",
    "            # for i, tool in enumerate(tools, 1):\n",
    "            #     print(f\"{i}. {tool.name}\")\n",
    "            #     print(f\"   描述: {tool.description}\")\n",
    "            #     print()\n",
    "            \n",
    "\n",
    "\n",
    "            return session, tools\n",
    "\n",
    "# 執行 - 取消下面這行的註解來執行\n",
    "session, tools = await create_mcp_client()"
   ]
  },
  {
   "cell_type": "markdown",
   "metadata": {},
   "source": [
    "## 3. 建立 MCP Client 連接到 OP.GG MCP Server"
   ]
  },
  {
   "cell_type": "code",
   "execution_count": null,
   "metadata": {},
   "outputs": [],
   "source": []
  },
  {
   "cell_type": "markdown",
   "metadata": {},
   "source": [
    "## 2. 導入必要的模組"
   ]
  },
  {
   "cell_type": "code",
   "execution_count": null,
   "metadata": {},
   "outputs": [],
   "source": [
    "# 安裝 fastmcp 和 mcp (如果還沒安裝)\n",
    "!pip install fastmcp mcp"
   ]
  },
  {
   "cell_type": "markdown",
   "metadata": {},
   "source": [
    "## 1. 安裝必要套件\n",
    "\n",
    "首先確保已安裝 fastmcp 和 mcp"
   ]
  },
  {
   "cell_type": "markdown",
   "metadata": {},
   "source": [
    "# FastMCP Client 範例\n",
    "\n",
    "這個 notebook 展示如何使用 fastmcp 建立一個 MCP client 來連接 MCP server"
   ]
  }
 ],
 "metadata": {
  "kernelspec": {
   "display_name": "lol_chat_helper",
   "language": "python",
   "name": "python3"
  },
  "language_info": {
   "name": "python",
   "version": "3.12.11"
  }
 },
 "nbformat": 4,
 "nbformat_minor": 2
}
