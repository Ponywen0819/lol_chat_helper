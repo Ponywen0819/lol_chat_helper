{
 "cells": [
  {
   "cell_type": "code",
   "source": "# 測試：查詢英雄分析 (以 Ahri 中路為例, champion_id=103)\nprint(\"📊 查詢 Ahri 中路的英雄分析...\\n\")\n\nresult = await client.get_champion_analysis(\n    region=\"kr\",\n    champion_id=103,  # Ahri\n    lane=\"MID\"\n)\n\nprint(\"結果:\")\nprint(\"=\" * 60)\nprint(result)",
   "metadata": {},
   "execution_count": null,
   "outputs": []
  },
  {
   "cell_type": "markdown",
   "source": "## 9. 測試：查詢英雄分析 (Counter/Ban/Pick)",
   "metadata": {}
  },
  {
   "cell_type": "code",
   "source": "# 測試：查詢英雄列表\nprint(\"🎮 查詢英雄列表...\\n\")\n\nresult = await client.list_champions(region=\"kr\")\n\nprint(\"結果:\")\nprint(\"=\" * 60)\nprint(result)",
   "metadata": {},
   "execution_count": null,
   "outputs": []
  },
  {
   "cell_type": "markdown",
   "source": "## 8. 測試：查詢英雄列表",
   "metadata": {}
  },
  {
   "cell_type": "code",
   "source": "# 測試：查詢 Faker (Hide on bush) 的資料\nprint(\"🔍 查詢 Faker (Hide on bush) 的資料...\\n\")\n\nresult = await client.get_summoner_profile(\n    region=\"kr\",\n    summoner_id=\"Hide on bush\",\n    game_type=\"SOLORANKED\"\n)\n\nprint(\"結果:\")\nprint(\"=\" * 60)\nprint(result)",
   "metadata": {},
   "execution_count": null,
   "outputs": []
  },
  {
   "cell_type": "markdown",
   "source": "## 7. 測試：查詢召喚師資料",
   "metadata": {}
  },
  {
   "cell_type": "code",
   "source": "# 測試：列出所有工具\ntools = await client.list_tools()\n\nprint(f\"✅ 成功連接！找到 {len(tools)} 個工具\\n\")\nprint(\"工具列表:\")\nprint(\"=\" * 60)\n\nfor i, tool in enumerate(tools, 1):\n    print(f\"{i}. {tool.name}\")\n    if hasattr(tool, 'description'):\n        print(f\"   {tool.description[:100]}...\")\n    print()",
   "metadata": {},
   "execution_count": null,
   "outputs": []
  },
  {
   "cell_type": "markdown",
   "source": "## 6. 測試：列出所有工具",
   "metadata": {}
  },
  {
   "cell_type": "code",
   "source": "class SimpleMCPClient:\n    \"\"\"\n    簡單的 MCP Client 封裝類別\n    \"\"\"\n    \n    def __init__(self, server_url: str = \"https://mcp-api.op.gg/mcp\"):\n        self.server_url = server_url\n        self.server_params = StdioServerParameters(\n            command=\"npx\",\n            args=[\n                \"-y\",\n                \"supergateway\",\n                \"--streamableHttp\",\n                server_url\n            ],\n            env=None\n        )\n    \n    async def list_tools(self):\n        \"\"\"\n        列出所有可用的工具\n        \"\"\"\n        async with stdio_client(self.server_params) as (read, write):\n            async with ClientSession(read, write) as session:\n                await session.initialize()\n                tools_result = await session.list_tools()\n                return tools_result.tools\n    \n    async def call_tool(self, tool_name: str, arguments: dict):\n        \"\"\"\n        呼叫指定的工具\n        \n        Args:\n            tool_name: 工具名稱\n            arguments: 工具參數\n        \n        Returns:\n            工具執行結果\n        \"\"\"\n        async with stdio_client(self.server_params) as (read, write):\n            async with ClientSession(read, write) as session:\n                await session.initialize()\n                result = await session.call_tool(tool_name, arguments=arguments)\n                return result\n    \n    async def get_summoner_profile(self, region: str, summoner_id: str, game_type: str = \"SOLORANKED\"):\n        \"\"\"\n        便利方法：查詢召喚師資料\n        \"\"\"\n        return await self.call_tool(\n            \"lol_get_summoner_profile\",\n            {\n                \"region\": region,\n                \"summoner_id\": summoner_id,\n                \"game_type\": game_type\n            }\n        )\n    \n    async def list_champions(self, region: str = \"kr\"):\n        \"\"\"\n        便利方法：查詢英雄列表\n        \"\"\"\n        return await self.call_tool(\n            \"lol_list_champions\",\n            {\"region\": region}\n        )\n    \n    async def get_champion_analysis(self, region: str, champion_id: int, lane: str):\n        \"\"\"\n        便利方法：查詢英雄分析\n        \"\"\"\n        return await self.call_tool(\n            \"lol_get_champion_analysis\",\n            {\n                \"region\": region,\n                \"champion_id\": champion_id,\n                \"lane\": lane\n            }\n        )\n\n# 創建 client 實例\nclient = SimpleMCPClient()\nprint(\"✅ SimpleMCPClient 已創建\")",
   "metadata": {},
   "execution_count": null,
   "outputs": []
  },
  {
   "cell_type": "markdown",
   "source": "## 5. 完整的 MCP Client 類別封裝",
   "metadata": {}
  },
  {
   "cell_type": "code",
   "source": "async def call_mcp_tool_example():\n    \"\"\"\n    範例：使用 MCP client 呼叫工具\n    \"\"\"\n    server_params = StdioServerParameters(\n        command=\"npx\",\n        args=[\n            \"-y\",\n            \"supergateway\",\n            \"--streamableHttp\",\n            \"https://mcp-api.op.gg/mcp\"\n        ],\n        env=None\n    )\n    \n    async with stdio_client(server_params) as (read, write):\n        async with ClientSession(read, write) as session:\n            await session.initialize()\n            \n            # 範例 1: 查詢召喚師資料\n            print(\"🔍 查詢召喚師資料...\\n\")\n            \n            result = await session.call_tool(\n                \"lol_get_summoner_profile\",\n                arguments={\n                    \"region\": \"kr\",\n                    \"summoner_id\": \"Hide on bush\",\n                    \"game_type\": \"SOLORANKED\"\n                }\n            )\n            \n            print(\"📊 結果:\")\n            print(result)\n            print()\n            \n            # 範例 2: 查詢英雄列表\n            print(\"\\n🎮 查詢英雄列表...\\n\")\n            \n            result2 = await session.call_tool(\n                \"lol_list_champions\",\n                arguments={\n                    \"region\": \"kr\"\n                }\n            )\n            \n            print(\"📊 結果:\")\n            print(result2)\n\n# 執行範例 - 取消下面這行的註解來執行\n# await call_mcp_tool_example()",
   "metadata": {},
   "execution_count": null,
   "outputs": []
  },
  {
   "cell_type": "markdown",
   "source": "## 4. 呼叫 MCP 工具範例",
   "metadata": {}
  },
  {
   "cell_type": "code",
   "source": "async def create_mcp_client():\n    \"\"\"\n    建立並初始化 MCP client，連接到 OP.GG MCP server\n    \"\"\"\n    # 設定 server 參數 (使用 npx supergateway 連接到 OP.GG)\n    server_params = StdioServerParameters(\n        command=\"npx\",\n        args=[\n            \"-y\",\n            \"supergateway\",\n            \"--streamableHttp\",\n            \"https://mcp-api.op.gg/mcp\"\n        ],\n        env=None\n    )\n    \n    # 建立 stdio client 和 session\n    async with stdio_client(server_params) as (read, write):\n        async with ClientSession(read, write) as session:\n            # 初始化連接\n            await session.initialize()\n            \n            print(\"✅ 成功連接到 MCP server!\")\n            \n            # 列出所有可用的工具\n            tools_result = await session.list_tools()\n            tools = tools_result.tools\n            \n            print(f\"\\n📦 可用工具數量: {len(tools)}\\n\")\n            \n            for i, tool in enumerate(tools, 1):\n                print(f\"{i}. {tool.name}\")\n                print(f\"   描述: {tool.description}\")\n                print()\n            \n            return session, tools\n\n# 執行 - 取消下面這行的註解來執行\n# session, tools = await create_mcp_client()",
   "metadata": {},
   "execution_count": null,
   "outputs": []
  },
  {
   "cell_type": "markdown",
   "source": "## 3. 建立 MCP Client 連接到 OP.GG MCP Server",
   "metadata": {}
  },
  {
   "cell_type": "code",
   "source": "import asyncio\nfrom mcp import ClientSession, StdioServerParameters\nfrom mcp.client.stdio import stdio_client",
   "metadata": {},
   "execution_count": null,
   "outputs": []
  },
  {
   "cell_type": "markdown",
   "source": "## 2. 導入必要的模組",
   "metadata": {}
  },
  {
   "cell_type": "code",
   "source": "# 安裝 fastmcp 和 mcp (如果還沒安裝)\n!pip install fastmcp mcp",
   "metadata": {},
   "execution_count": null,
   "outputs": []
  },
  {
   "cell_type": "markdown",
   "source": "## 1. 安裝必要套件\n\n首先確保已安裝 fastmcp 和 mcp",
   "metadata": {}
  },
  {
   "cell_type": "markdown",
   "source": "# FastMCP Client 範例\n\n這個 notebook 展示如何使用 fastmcp 建立一個 MCP client 來連接 MCP server",
   "metadata": {}
  }
 ],
 "metadata": {
  "kernelspec": {
   "display_name": "Python 3",
   "language": "python",
   "name": "python3"
  },
  "language_info": {
   "name": "python",
   "version": "3.12.0"
  }
 },
 "nbformat": 4,
 "nbformat_minor": 2
}